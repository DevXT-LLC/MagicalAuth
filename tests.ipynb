{
 "cells": [
  {
   "cell_type": "code",
   "execution_count": 30,
   "metadata": {},
   "outputs": [
    {
     "name": "stdout",
     "output_type": "stream",
     "text": [
      "{'otp_uri': 'otpauth://totp/MagicalAuth:%3Cfunction%20uuid4%20at%200x0000022295D8DD80%3Ess%40devxt.com?secret=2BYWNMIYC4TMNOA5GMXJRSCZFRGQRV2C&issuer=MagicalAuth'}\n",
      "Success! Your MFA token is: 953850\n"
     ]
    }
   ],
   "source": [
    "import requests\n",
    "import pyotp\n",
    "import time\n",
    "import uuid\n",
    "\n",
    "base_url = \"http://localhost:12437\"\n",
    "# base_url = \"https://api.test.magicalauth.com\"\n",
    "failures = 0\n",
    "test_email = f\"{uuid.uuid4}ss@devxt.com\"\n",
    "\n",
    "\n",
    "def register_user():\n",
    "    login_response = requests.post(\n",
    "        f\"{base_url}/v1/user\",\n",
    "        json={\n",
    "            \"email\": test_email,\n",
    "            \"first_name\": \"Test\",\n",
    "            \"last_name\": \"Name\",\n",
    "            \"company_name\": \"Test Company\",\n",
    "            \"job_title\": \"Test Job Title\",\n",
    "        },\n",
    "    )\n",
    "    response = login_response.json()\n",
    "    print(response)\n",
    "    if \"otp_uri\" in response:\n",
    "        mfa_token = response[\"otp_uri\"].split(\"secret=\")[1].split(\"&\")[0]\n",
    "        totp = pyotp.TOTP(mfa_token)\n",
    "        return f\"Success! Your MFA token is: {totp.now()}\"\n",
    "    else:\n",
    "        return response\n",
    "\n",
    "\n",
    "otp_uri = register_user()\n",
    "print(otp_uri)"
   ]
  },
  {
   "cell_type": "code",
   "execution_count": 25,
   "metadata": {},
   "outputs": [
    {
     "name": "stdout",
     "output_type": "stream",
     "text": [
      "False\n"
     ]
    }
   ],
   "source": [
    "import requests\n",
    "\n",
    "response = requests.get(\n",
    "    f\"{base_url}/v1/user/exists\",\n",
    "    params={\"email\": \"asfasfas@asfafa.com\"},\n",
    ")\n",
    "print(response.json())"
   ]
  },
  {
   "cell_type": "code",
   "execution_count": null,
   "metadata": {},
   "outputs": [],
   "source": [
    "totp_token = otp_uri.split(\"secret=\")[1].split(\"&\")[0]\n",
    "totp = pyotp.TOTP(totp_token)\n",
    "print(totp.now())\n",
    "\n",
    "response = requests.post(\n",
    "    f\"{base_url}/v1/login\",\n",
    "    json={\"email\": test_email, \"token\": totp.now()},\n",
    ")\n",
    "response = response.json()\n",
    "if \"detail\" in response:\n",
    "    detail = response[\"detail\"]\n",
    "    if str(detail).startswith(\"http\"):\n",
    "        token = detail.split(\"token=\")[1]\n",
    "        print(token)\n",
    "    else:\n",
    "        print(response)"
   ]
  }
 ],
 "metadata": {
  "kernelspec": {
   "display_name": "Python 3",
   "language": "python",
   "name": "python3"
  },
  "language_info": {
   "codemirror_mode": {
    "name": "ipython",
    "version": 3
   },
   "file_extension": ".py",
   "mimetype": "text/x-python",
   "name": "python",
   "nbconvert_exporter": "python",
   "pygments_lexer": "ipython3",
   "version": "3.10.11"
  }
 },
 "nbformat": 4,
 "nbformat_minor": 2
}
