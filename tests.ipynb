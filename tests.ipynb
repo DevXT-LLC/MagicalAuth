{
 "cells": [
  {
   "cell_type": "code",
   "execution_count": null,
   "metadata": {},
   "outputs": [],
   "source": [
    "import requests\n",
    "import pyotp\n",
    "import time\n",
    "\n",
    "base_url = \"http://localhost:14374\"\n",
    "failures = 0\n",
    "\n",
    "\n",
    "def register_user():\n",
    "    login_response = requests.post(\n",
    "        f\"{base_url}/register\",\n",
    "        json={\n",
    "            \"email\": \"test@test.com\",\n",
    "            \"first_name\": \"Test\",\n",
    "            \"last_name\": \"Name\",\n",
    "            \"company_name\": \"Test Company\",\n",
    "            \"job_title\": \"Test Job Title\",\n",
    "        },\n",
    "    )\n",
    "    response = login_response.json()\n",
    "    if \"mfa_token\" in response:\n",
    "        mfa_token = response[\"mfa_token\"]\n",
    "        totp = pyotp.TOTP(mfa_token)\n",
    "        return f\"Success! Your MFA token is: {totp.now()}\"\n",
    "    else:\n",
    "        return response\n",
    "\n",
    "\n",
    "while failures < 100:\n",
    "    try:\n",
    "        print(register_user())\n",
    "        break\n",
    "    except Exception as e:\n",
    "        print(e)\n",
    "        failures += 1\n",
    "        time.sleep(5)"
   ]
  },
  {
   "cell_type": "code",
   "execution_count": 12,
   "metadata": {},
   "outputs": [
    {
     "name": "stdout",
     "output_type": "stream",
     "text": [
      "e682d6e9-9405-4f39-a1aa-7e09574a6703\n"
     ]
    }
   ],
   "source": [
    "import uuid\n",
    "\n",
    "print(uuid.uuid4())"
   ]
  },
  {
   "cell_type": "code",
   "execution_count": 14,
   "metadata": {},
   "outputs": [
    {
     "name": "stdout",
     "output_type": "stream",
     "text": [
      "U2FsdGVkX1/OX3r9OGS6V2bFxOMNiA/CIQr68ZPv4CA=\n"
     ]
    }
   ],
   "source": [
    "import os\n",
    "from hashlib import md5\n",
    "from Crypto.Cipher import AES\n",
    "import base64\n",
    "\n",
    "\n",
    "def encrypt(passphrase, data):\n",
    "    passphrase = passphrase.encode(\"utf-8\")\n",
    "    salt = os.urandom(8)\n",
    "    passphrase += salt\n",
    "    key = md5(passphrase).digest()\n",
    "    final_key = key\n",
    "    while len(final_key) < 32 + 16:\n",
    "        key = md5(key + passphrase).digest()\n",
    "        final_key += key\n",
    "    key_iv = final_key[: 32 + 16]\n",
    "    key = key_iv[:32]\n",
    "    iv = key_iv[32:]\n",
    "    aes = AES.new(key, AES.MODE_CBC, iv)\n",
    "    padded_data = data.encode(\"utf-8\") + (16 - len(data) % 16) * bytes(\n",
    "        [16 - len(data) % 16]\n",
    "    )\n",
    "    encrypted_data = aes.encrypt(padded_data)\n",
    "    encrypted = b\"Salted__\" + salt + encrypted_data\n",
    "    return base64.b64encode(encrypted).decode(\"utf-8\")\n",
    "\n",
    "\n",
    "def decrypt(passphrase, data):\n",
    "    try:\n",
    "        passphrase = passphrase.encode(\"utf-8\")\n",
    "        encrypted = base64.b64decode(data)\n",
    "        assert encrypted[0:8] == b\"Salted__\"\n",
    "        salt = encrypted[8:16]\n",
    "        assert len(salt) == 8, len(salt)\n",
    "        passphrase += salt\n",
    "        key = md5(passphrase).digest()\n",
    "        final_key = key\n",
    "        while len(final_key) < 32 + 16:\n",
    "            key = md5(key + passphrase).digest()\n",
    "            final_key += key\n",
    "        key_iv = final_key[: 32 + 16]\n",
    "        key = key_iv[:32]\n",
    "        iv = key_iv[32:]\n",
    "        aes = AES.new(key, AES.MODE_CBC, iv)\n",
    "        data = aes.decrypt(encrypted[16:])\n",
    "        decrypted = data[: -(data[-1] if type(data[-1]) == int else ord(data[-1]))]\n",
    "        return decrypted.decode(\"utf-8\")\n",
    "    except:\n",
    "        return encrypted\n",
    "\n",
    "\n",
    "passphrase = \"None of your business\"\n",
    "data = \"Hello, World!\"\n",
    "\n",
    "encrypted = encrypt(passphrase=passphrase, data=data)\n",
    "print(encrypted)"
   ]
  },
  {
   "cell_type": "code",
   "execution_count": 15,
   "metadata": {},
   "outputs": [
    {
     "name": "stdout",
     "output_type": "stream",
     "text": [
      "Hello, World!\n"
     ]
    }
   ],
   "source": [
    "decrypted = decrypt(passphrase=passphrase, data=encrypted)\n",
    "print(decrypted)"
   ]
  }
 ],
 "metadata": {
  "kernelspec": {
   "display_name": "Python 3",
   "language": "python",
   "name": "python3"
  },
  "language_info": {
   "codemirror_mode": {
    "name": "ipython",
    "version": 3
   },
   "file_extension": ".py",
   "mimetype": "text/x-python",
   "name": "python",
   "nbconvert_exporter": "python",
   "pygments_lexer": "ipython3",
   "version": "3.10.11"
  }
 },
 "nbformat": 4,
 "nbformat_minor": 2
}
