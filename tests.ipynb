{
 "cells": [
  {
   "cell_type": "code",
   "execution_count": null,
   "metadata": {},
   "outputs": [],
   "source": [
    "import requests\n",
    "import pyotp\n",
    "import time\n",
    "\n",
    "base_url = \"http://localhost:14374\"\n",
    "failures = 0\n",
    "\n",
    "\n",
    "def register_user():\n",
    "    login_response = requests.post(\n",
    "        f\"{base_url}/register\",\n",
    "        json={\n",
    "            \"email\": \"test@test.com\",\n",
    "            \"first_name\": \"Test\",\n",
    "            \"last_name\": \"Name\",\n",
    "            \"company_name\": \"Test Company\",\n",
    "            \"job_title\": \"Test Job Title\",\n",
    "        },\n",
    "    )\n",
    "    response = login_response.json()\n",
    "    if \"mfa_token\" in response:\n",
    "        mfa_token = response[\"mfa_token\"]\n",
    "        totp = pyotp.TOTP(mfa_token)\n",
    "        return f\"Success! Your MFA token is: {totp.now()}\"\n",
    "    else:\n",
    "        return response\n",
    "\n",
    "\n",
    "while failures < 100:\n",
    "    try:\n",
    "        print(register_user())\n",
    "        break\n",
    "    except Exception as e:\n",
    "        print(e)\n",
    "        failures += 1\n",
    "        time.sleep(5)"
   ]
  }
 ],
 "metadata": {
  "language_info": {
   "name": "python"
  }
 },
 "nbformat": 4,
 "nbformat_minor": 2
}
