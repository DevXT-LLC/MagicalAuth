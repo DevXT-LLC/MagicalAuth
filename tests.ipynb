{
 "cells": [
  {
   "cell_type": "markdown",
   "metadata": {},
   "source": [
    "# Create a user\n"
   ]
  },
  {
   "cell_type": "code",
   "execution_count": null,
   "metadata": {},
   "outputs": [],
   "source": [
    "import requests\n",
    "import pyotp\n",
    "import time\n",
    "\n",
    "base_url = \"http://localhost:12437\"\n",
    "failures = 0\n",
    "test_email = \"tester7@devxt.com\"\n",
    "\n",
    "\n",
    "def register_user():\n",
    "    login_response = requests.post(\n",
    "        f\"{base_url}/v1/user\",\n",
    "        json={\n",
    "            \"email\": test_email,\n",
    "            \"first_name\": \"Test\",\n",
    "            \"last_name\": \"Name\",\n",
    "            \"company_name\": \"Test Company\",\n",
    "            \"job_title\": \"Test Job Title\",\n",
    "        },\n",
    "    )\n",
    "    response = login_response.json()\n",
    "    print(response)\n",
    "    if \"otp_uri\" in response:\n",
    "        mfa_token = response[\"otp_uri\"].split(\"secret=\")[1].split(\"&\")[0]\n",
    "        return mfa_token\n",
    "    else:\n",
    "        return response\n",
    "\n",
    "\n",
    "while failures < 100:\n",
    "    try:\n",
    "        mfa_token = register_user()\n",
    "        totp = pyotp.TOTP(mfa_token)\n",
    "        break\n",
    "    except Exception as e:\n",
    "        print(e)\n",
    "        failures += 1\n",
    "        time.sleep(5)"
   ]
  },
  {
   "cell_type": "markdown",
   "metadata": {},
   "source": [
    "## Confirm the user exists\n"
   ]
  },
  {
   "cell_type": "code",
   "execution_count": null,
   "metadata": {},
   "outputs": [],
   "source": [
    "response = requests.get(\n",
    "    f\"{base_url}/v1/user/exists\",\n",
    "    params={\"email\": test_email},\n",
    ")\n",
    "print(response.json())"
   ]
  },
  {
   "cell_type": "markdown",
   "metadata": {},
   "source": [
    "## Get magic link\n"
   ]
  },
  {
   "cell_type": "code",
   "execution_count": null,
   "metadata": {},
   "outputs": [],
   "source": [
    "response = requests.post(\n",
    "    f\"{base_url}/v1/login\",\n",
    "    json={\"email\": test_email, \"token\": totp.now()},\n",
    ")\n",
    "response = response.json()\n",
    "if \"detail\" in response:\n",
    "    detail = response[\"detail\"]\n",
    "    if str(detail).startswith(\"http\"):\n",
    "        token = detail.split(\"token=\")[1]\n",
    "        print(f\"Log in at {detail}\")\n",
    "    else:\n",
    "        print(response)"
   ]
  },
  {
   "cell_type": "markdown",
   "metadata": {},
   "source": [
    "## Update user\n"
   ]
  },
  {
   "cell_type": "code",
   "execution_count": null,
   "metadata": {},
   "outputs": [],
   "source": [
    "response = requests.put(\n",
    "    f\"{base_url}/v1/user\",\n",
    "    json={\n",
    "        \"first_name\": \"Test\",\n",
    "        \"last_name\": \"Man\",\n",
    "        \"company_name\": \"Test Company\",\n",
    "        \"job_title\": \"Test Job Title\",\n",
    "    },\n",
    "    headers={\"Authorization\": f\"{token}\"},\n",
    ")\n",
    "print(response.json())"
   ]
  },
  {
   "cell_type": "markdown",
   "metadata": {},
   "source": [
    "## Get user info\n"
   ]
  },
  {
   "cell_type": "code",
   "execution_count": null,
   "metadata": {},
   "outputs": [],
   "source": [
    "response = requests.get(\n",
    "    f\"{base_url}/v1/user\",\n",
    "    headers={\"Authorization\": f\"{token}\"},\n",
    ")\n",
    "print(response.json())"
   ]
  }
 ],
 "metadata": {
  "kernelspec": {
   "display_name": "Python 3",
   "language": "python",
   "name": "python3"
  },
  "language_info": {
   "codemirror_mode": {
    "name": "ipython",
    "version": 3
   },
   "file_extension": ".py",
   "mimetype": "text/x-python",
   "name": "python",
   "nbconvert_exporter": "python",
   "pygments_lexer": "ipython3",
   "version": "3.10.11"
  }
 },
 "nbformat": 4,
 "nbformat_minor": 2
}
